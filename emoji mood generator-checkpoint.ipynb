{
 "cells": [
  {
   "cell_type": "code",
   "execution_count": 1,
   "id": "b8fddb79-a2ad-4675-a6b0-3682b78a55b6",
   "metadata": {},
   "outputs": [
    {
     "name": "stdin",
     "output_type": "stream",
     "text": [
      "How are you feeling today?  sad\n"
     ]
    },
    {
     "name": "stdout",
     "output_type": "stream",
     "text": [
      "😢 It's okay to feel down. Brighter days are ahead.\n"
     ]
    }
   ],
   "source": [
    "mood_dict = {\n",
    "    \"happy\": (\"😊\", \"Keep smiling! Your joy is contagious.\"),\n",
    "    \"sad\": (\"😢\", \"It's okay to feel down. Brighter days are ahead.\"),\n",
    "    \"angry\": (\"😠\", \"Take a deep breath. You’ve got this!\"),\n",
    "    \"excited\": (\"🤩\", \"That's awesome! Keep riding the excitement!\"),\n",
    "    \"tired\": (\"😴\", \"Get some rest. You deserve it.\"),\n",
    "    \"bored\": (\"😐\", \"Try something new — adventure awaits!\")\n",
    "}\n",
    "\n",
    "# Step 4 & 5: Ask for user input and normalize it\n",
    "user_mood = input(\"How are you feeling today? \").lower().strip()\n",
    "\n",
    "# Step 6,7 & 8: Check mood and respond accordingly\n",
    "if user_mood in mood_dict:\n",
    "    emoji, message = mood_dict[user_mood]\n",
    "    print(f\"{emoji} {message}\")\n",
    "else:\n",
    "    print(\"🤔 I'm not sure how you're feeling, but I hope you have a wonderful day!\")"
   ]
  },
  {
   "cell_type": "code",
   "execution_count": null,
   "id": "99247673-1bb0-46f5-9a57-dd85c64a8564",
   "metadata": {},
   "outputs": [],
   "source": []
  }
 ],
 "metadata": {
  "kernelspec": {
   "display_name": "Python 3 (ipykernel)",
   "language": "python",
   "name": "python3"
  },
  "language_info": {
   "codemirror_mode": {
    "name": "ipython",
    "version": 3
   },
   "file_extension": ".py",
   "mimetype": "text/x-python",
   "name": "python",
   "nbconvert_exporter": "python",
   "pygments_lexer": "ipython3",
   "version": "3.12.7"
  }
 },
 "nbformat": 4,
 "nbformat_minor": 5
}
